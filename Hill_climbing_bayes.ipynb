{
 "cells": [
  {
   "cell_type": "markdown",
   "metadata": {},
   "source": [
    "# Algoritmo"
   ]
  },
  {
   "cell_type": "code",
   "execution_count": 1,
   "metadata": {},
   "outputs": [],
   "source": [
    "from itertools import combinations\n",
    "import igraph as ig\n",
    "from pgmpy.models import BayesianNetwork\n",
    "from pgmpy.estimators import K2Score, MaximumLikelihoodEstimator\n",
    "import random\n",
    "import pandas as pd\n",
    "import copy"
   ]
  },
  {
   "cell_type": "code",
   "execution_count": 8,
   "metadata": {},
   "outputs": [
    {
     "name": "stdout",
     "output_type": "stream",
     "text": [
      "Mejor estructura K2: [('Edad', 'Lagrima'), ('Astigmatismo', 'Lagrima'), ('Edad', 'Recomendacion'), ('Edad', 'Diagnostico')]\n",
      "Mejor puntaje K2: -113.1378237027195\n",
      "Total de estructuras evaluadas: 16\n"
     ]
    }
   ],
   "source": [
    "from itertools import combinations\n",
    "import igraph as ig\n",
    "from pgmpy.models import BayesianNetwork\n",
    "from pgmpy.estimators import K2Score, MaximumLikelihoodEstimator\n",
    "import random\n",
    "import pandas as pd\n",
    "import copy\n",
    "\n",
    "\n",
    "def combinaciones_var(variables_names):\n",
    "    # Generar todas las combinaciones posibles de aristas\n",
    "    all_possible_edges = [(u, v) for u in variables_names for v in variables_names if u != v]\n",
    "    return all_possible_edges\n",
    "\n",
    "# Función para verificar si una estructura es un DAG \n",
    "def is_dag(edges, nodes):\n",
    "    G = ig.Graph(directed=True)\n",
    "    G.add_vertices(nodes)\n",
    "    G.add_edges(edges)\n",
    "    cycles = G.feedback_arc_set()\n",
    "    return not cycles\n",
    "\n",
    "def invertir_direccion(edges, variables):\n",
    "    if len(edges) == 1:\n",
    "        return [(edges[0][1], edges[0][0])]\n",
    "\n",
    "    possible_edges = edges[:] # lista auxiliar\n",
    "    random.shuffle(possible_edges) # barajar las variables\n",
    "    \n",
    "    for al in possible_edges:\n",
    "        reverso = (al[1], al[0])\n",
    "        index = edges.index(al)\n",
    "        edges[index] = reverso\n",
    "        \n",
    "        if is_dag(edges, variables):\n",
    "            return edges\n",
    "        else:\n",
    "            edges[index] = al\n",
    "\n",
    "    return edges\n",
    "\n",
    "def add_arco(edges, tupla, nodes):\n",
    "    # Convertir la lista de tuplas en una tupla única concatenada\n",
    "    tup = tuple([item for sublist in tupla for item in sublist])\n",
    "\n",
    "    # Obtener todos los arcos posibles a agregar\n",
    "    possible_arcs = [t for t in edges if t not in tupla and t[0] in tup]\n",
    "\n",
    "    # Barajar los arcos posibles para intentar en orden aleatorio\n",
    "    random.shuffle(possible_arcs)\n",
    "\n",
    "    for r in possible_arcs:\n",
    "        tupla.append(r)\n",
    "        if is_dag(tupla, nodes):\n",
    "            return tupla\n",
    "        else:\n",
    "            tupla.remove(r)\n",
    "\n",
    "    # Si no se puede agregar ningún arco sin formar un ciclo, retornar la estructura original\n",
    "    return tupla\n",
    "\n",
    "def delete_arco(estructura):\n",
    "    if len(estructura) > 1:\n",
    "        eliminar = random.choice(estructura)\n",
    "        estructura.remove(eliminar)\n",
    "        return estructura\n",
    "    else:\n",
    "        return estructura\n",
    "\n",
    "\n",
    "# Cargar el conjunto de datos\n",
    "df = pd.read_csv('C:/Users/abrah/Downloads/lentes.csv')\n",
    "# Obtener los nombres de las variables\n",
    "all_var = list(df.columns)\n",
    "\n",
    "# Generar las combinaciones entre pares de variables\n",
    "combinaciones = combinaciones_var(all_var)\n",
    "\n",
    "all_estructuras = [] # Almacenar las estructuras evaluadas\n",
    "all_scores = []\n",
    "\n",
    "# Mejores puntajes y estructuras\n",
    "best_puntaje_k2 = float('inf')\n",
    "best_structure_k2 = None\n",
    "# Empezar con una estructura inicial al azar\n",
    "estructura_ = [random.choice(combinaciones)]\n",
    "#estructura_ = [('Astigmatismo', 'Lagrima')]\n",
    "scoresss = []\n",
    "\n",
    "iterations_con_mejora = 0\n",
    "max_iterations_con_mejora = 5 # maximo de iteraciones en caso de que el puntaje no mejore\n",
    "\n",
    "for i in range(100):\n",
    "    if iterations_con_mejora >= max_iterations_con_mejora:\n",
    "        break\n",
    "\n",
    "    seleccion = random.randint(1, 3)\n",
    "    \n",
    "    if seleccion == 1 and len(estructura_) < len(all_var) * (len(all_var) - 1):\n",
    "        estructura_ = add_arco(combinaciones, estructura_, all_var)\n",
    "    elif seleccion == 2:\n",
    "        estructura_ = invertir_direccion(estructura_, all_var)\n",
    "    else:\n",
    "        estructura_ = delete_arco(estructura_)\n",
    "\n",
    "    all_estructuras.append(estructura_)\n",
    "\n",
    "    model = BayesianNetwork(estructura_)\n",
    "    model.fit(df, estimator=MaximumLikelihoodEstimator)\n",
    "    k2 = K2Score(df)\n",
    "    score = k2.score(model)\n",
    "    scoresss.append(score)\n",
    "\n",
    "    mejora = False\n",
    "    # Guardar los mejores puntajes y estructuras\n",
    "    if score < best_puntaje_k2:\n",
    "        best_puntaje_k2 = score\n",
    "        best_structure_k2 = copy.deepcopy(estructura_)  # Usar deepcopy para evitar referencias\n",
    "        all_scores.append(best_puntaje_k2)\n",
    "        mejora = True\n",
    "    # Verificar si hubo alguna mejora\n",
    "    if mejora:\n",
    "        iterations_con_mejora = 0 # si el puntaje sigue mejorando, el contador se actualiza a 0\n",
    "    else:\n",
    "        iterations_con_mejora += 1 # si no hay cambios en el resultado de la metrica, se le aumenta 1\n",
    "\n",
    "print(\"Mejor estructura K2:\", best_structure_k2)\n",
    "print(\"Mejor puntaje K2:\", best_puntaje_k2)\n",
    "print(f'Total de estructuras evaluadas: {len(all_estructuras)}')\n"
   ]
  },
  {
   "cell_type": "markdown",
   "metadata": {},
   "source": [
    "1.-Resultados:\n",
    "    Mejor estructura K2: [('Edad', 'Lagrima'), ('Astigmatismo', 'Lagrima'), ('Edad', 'Recomendacion'), ('Edad', 'Diagnostico')]\n",
    "    Mejor puntaje K2: -113.1378237027195\n",
    "    Total de estructuras evaluadas: 16"
   ]
  },
  {
   "cell_type": "markdown",
   "metadata": {},
   "source": [
    "Entrenar y clasificar"
   ]
  },
  {
   "cell_type": "code",
   "execution_count": 2,
   "metadata": {},
   "outputs": [],
   "source": [
    "# cargar el conjunto de datos\n",
    "df = pd.read_csv('C:/Users/abrah/Downloads/lentes.csv')"
   ]
  },
  {
   "cell_type": "code",
   "execution_count": 3,
   "metadata": {},
   "outputs": [],
   "source": [
    "best_structure_k2 = [('Edad', 'Lagrima'), ('Astigmatismo', 'Lagrima'), ('Edad', 'Recomendacion'), ('Edad', 'Diagnostico')]\n",
    "best_model = BayesianNetwork(best_structure_k2)\n",
    "best_model.fit(df, estimator=MaximumLikelihoodEstimator)"
   ]
  },
  {
   "cell_type": "code",
   "execution_count": 4,
   "metadata": {},
   "outputs": [],
   "source": [
    "from pgmpy.inference import VariableElimination\n",
    "# permite hacer preguntas a nuestro modelo bayesiano entrenado.\n",
    "infer = VariableElimination(best_model) # actualizacion de creencias"
   ]
  },
  {
   "cell_type": "code",
   "execution_count": 5,
   "metadata": {},
   "outputs": [
    {
     "data": {
      "application/vnd.jupyter.widget-view+json": {
       "model_id": "fbf78c5adc4947199d3606356ff97ca8",
       "version_major": 2,
       "version_minor": 0
      },
      "text/plain": [
       "0it [00:00, ?it/s]"
      ]
     },
     "metadata": {},
     "output_type": "display_data"
    },
    {
     "data": {
      "application/vnd.jupyter.widget-view+json": {
       "model_id": "748e8a47e51b48b191d61f6be78c6763",
       "version_major": 2,
       "version_minor": 0
      },
      "text/plain": [
       "0it [00:00, ?it/s]"
      ]
     },
     "metadata": {},
     "output_type": "display_data"
    },
    {
     "name": "stdout",
     "output_type": "stream",
     "text": [
      "Predicción para la nueva observación: {'Recomendacion': 'Ninguna'}\n"
     ]
    }
   ],
   "source": [
    "# Ejemplo de predicción con nuevas observaciones\n",
    "nueva_observacion = {'Edad': 'Prepresbicia','Astigmatismo': 'No', 'Lagrima': 'Normal'}\n",
    "# infer.map_query: realiza inferencia sobre la red bayesiana.\n",
    "# Inferencia MAP (Maximum A Posteriori).\n",
    "# Utiliza el algoritmo de inferencia (eliminación de variables) para calcular la probabilidad de cada posible valor de la variable 'Recomendacion' dado los valores observados\n",
    "# Devuelve el valor de 'Recomendacion' que maximiza la probabilidad condicional dada la evidencia proporcionada.\n",
    "# Eliminación de Variables:  elimina las variables no deseadas en una red bayesiana para calcular la probabilidad marginal de las variables de interés.\n",
    "prediccion = infer.map_query(variables=['Recomendacion'], evidence=nueva_observacion)\n",
    "print(\"Predicción para la nueva observación:\", prediccion)"
   ]
  },
  {
   "cell_type": "code",
   "execution_count": 13,
   "metadata": {},
   "outputs": [
    {
     "name": "stdout",
     "output_type": "stream",
     "text": [
      "Prediccion para 'Recomendacion': +------------------------+----------------------+\n",
      "| Recomendacion          |   phi(Recomendacion) |\n",
      "+========================+======================+\n",
      "| Recomendacion(Blandas) |               0.2500 |\n",
      "+------------------------+----------------------+\n",
      "| Recomendacion(Duras)   |               0.1250 |\n",
      "+------------------------+----------------------+\n",
      "| Recomendacion(Ninguna) |               0.6250 |\n",
      "+------------------------+----------------------+\n"
     ]
    }
   ],
   "source": [
    "prediccion_proba = infer.query(variables=['Recomendacion'], evidence=nueva_observacion)\n",
    "print(\"Prediccion para 'Recomendacion':\", prediccion_proba)"
   ]
  },
  {
   "cell_type": "code",
   "execution_count": 7,
   "metadata": {},
   "outputs": [
    {
     "name": "stdout",
     "output_type": "stream",
     "text": [
      "Probabilidad de tener astigmatismo dado que tiene prepresbicia: +------------------+---------------------+\n",
      "| Astigmatismo     |   phi(Astigmatismo) |\n",
      "+==================+=====================+\n",
      "| Astigmatismo(No) |              0.5000 |\n",
      "+------------------+---------------------+\n",
      "| Astigmatismo(Si) |              0.5000 |\n",
      "+------------------+---------------------+\n"
     ]
    }
   ],
   "source": [
    "# Para obtener la probabilidad de tener 'astigmatismo' dado que tiene 'joven'\n",
    "probabilidad_astigmatismo = infer.query(variables=['Astigmatismo'], evidence={'Edad': 'Joven'})\n",
    "print(\"Probabilidad de tener astigmatismo dado que tiene prepresbicia:\", probabilidad_astigmatismo)"
   ]
  },
  {
   "cell_type": "code",
   "execution_count": 6,
   "metadata": {},
   "outputs": [
    {
     "data": {
      "image/png": "[encoded data removed]",
      "text/plain": [
       "<Figure size 640x480 with 1 Axes>"
      ]
     },
     "metadata": {},
     "output_type": "display_data"
    }
   ],
   "source": [
    "import matplotlib.pyplot as plt\n",
    "\n",
    "# Crear el gráfico\n",
    "plt.plot(all_scores, marker='o')\n",
    "\n",
    "# Agregar título y etiquetas\n",
    "plt.title('Gráfico del Vector')\n",
    "plt.xlabel('Índice')\n",
    "plt.ylabel('Valor')\n",
    "\n",
    "# Mostrar el gráfico\n",
    "plt.show()"
   ]
  },
  {
   "cell_type": "code",
   "execution_count": 12,
   "metadata": {},
   "outputs": [
    {
     "data": {
      "image/png": "[encoded data removed]",
      "text/plain": [
       "<Figure size 800x600 with 1 Axes>"
      ]
     },
     "metadata": {},
     "output_type": "display_data"
    }
   ],
   "source": [
    "import networkx as nx\n",
    "import matplotlib.pyplot as plt\n",
    "\n",
    "# obtener el modelo grafico de la red bayesiana\n",
    "data = best_structure_k2\n",
    "\n",
    "df = pd.DataFrame(data, columns=['Source', 'Target'])\n",
    "\n",
    "# Crear un grafo dirigido\n",
    "G = nx.from_pandas_edgelist(df, source='Source', target='Target', create_using=nx.DiGraph())\n",
    "\n",
    "colores = ['red', 'green', 'yellow', 'brown', 'purple', 'pink']\n",
    "selec = random.choice(colores)\n",
    "\n",
    "# Dibujar el grafo\n",
    "plt.figure(figsize=(8, 6))\n",
    "pos = nx.spring_layout(G)\n",
    "nx.draw(G, pos, with_labels=True, node_size=1500, node_color=selec, font_size=10, font_weight=\"bold\", arrowsize=20)\n",
    "plt.show()"
   ]
  }
 ],
 "metadata": {
  "kernelspec": {
   "display_name": "Python 3",
   "language": "python",
   "name": "python3"
  },
  "language_info": {
   "codemirror_mode": {
    "name": "ipython",
    "version": 3
   },
   "file_extension": ".py",
   "mimetype": "text/x-python",
   "name": "python",
   "nbconvert_exporter": "python",
   "pygments_lexer": "ipython3",
   "version": "3.11.5"
  }
 },
 "nbformat": 4,
 "nbformat_minor": 2
}
